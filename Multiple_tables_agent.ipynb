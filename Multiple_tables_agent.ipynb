{
 "cells": [
  {
   "cell_type": "code",
   "execution_count": null,
   "id": "cfbd4c52-7a92-47f2-b8bb-d033b3b4e4f5",
   "metadata": {},
   "outputs": [],
   "source": [
    "# https://www.youtube.com/watch?v=c8K4QHzaOrU&ab_channel=NeuralHackswithVasanth"
   ]
  },
  {
   "cell_type": "code",
   "execution_count": null,
   "id": "02c08808-0e58-4e80-b37e-f3bdc8e57d0a",
   "metadata": {
    "scrolled": true
   },
   "outputs": [],
   "source": [
    "#!pip install langchain-groq"
   ]
  },
  {
   "cell_type": "code",
   "execution_count": null,
   "id": "bafac0e8-610e-40a1-b29b-f32cf7db1c81",
   "metadata": {},
   "outputs": [],
   "source": [
    "#!pip install protobuf==3.20.0"
   ]
  },
  {
   "cell_type": "code",
   "execution_count": null,
   "id": "4ca33b78-a524-48e1-9fab-a518856ea044",
   "metadata": {},
   "outputs": [],
   "source": [
    "# !pip uninstall google-cloud google-api-python-client\n",
    "# !pip install google-cloud google-api-python-client\n"
   ]
  },
  {
   "cell_type": "code",
   "execution_count": 17,
   "id": "50b5b2ae-7fe4-4021-b165-f11247b7c539",
   "metadata": {},
   "outputs": [],
   "source": [
    "import sqlite3\n",
    "import os\n",
    "from langchain_google_genai import ChatGoogleGenerativeAI\n",
    "from langchain_community.utilities.sql_database import SQLDatabase\n",
    "from operator import itemgetter\n",
    "from langchain_groq import ChatGroq\n",
    "from langchain.prompts import PromptTemplate\n",
    "from langchain.chains import LLMChain, create_sql_query_chain\n",
    "\n",
    "from langchain.chains.sql_database.prompt import SQL_PROMPTS\n",
    "from dotenv import find_dotenv, load_dotenv\n",
    "from langchain_core.prompts import ChatPromptTemplate, MessagesPlaceholder,FewShotChatMessagePromptTemplate,PromptTemplate\n",
    "\n",
    "from langchain_core.output_parsers import StrOutputParser\n",
    "from langchain_core.prompts import PromptTemplate\n",
    "from langchain_core.runnables import RunnablePassthrough\n",
    "import pandas as pd"
   ]
  },
  {
   "cell_type": "code",
   "execution_count": 18,
   "id": "2f7102c5-b36f-48b4-9db7-a7ae1dfaaad5",
   "metadata": {},
   "outputs": [
    {
     "data": {
      "text/plain": [
       "['crate',\n",
       " 'duckdb',\n",
       " 'googlesql',\n",
       " 'mssql',\n",
       " 'mysql',\n",
       " 'mariadb',\n",
       " 'oracle',\n",
       " 'postgresql',\n",
       " 'sqlite',\n",
       " 'clickhouse',\n",
       " 'prestodb']"
      ]
     },
     "execution_count": 18,
     "metadata": {},
     "output_type": "execute_result"
    }
   ],
   "source": [
    "\n",
    "list(SQL_PROMPTS)"
   ]
  },
  {
   "cell_type": "code",
   "execution_count": 19,
   "id": "b8737712-5c62-4a9c-bd24-4aa3493e8681",
   "metadata": {},
   "outputs": [
    {
     "data": {
      "text/plain": [
       "PromptTemplate(input_variables=['input', 'table_info', 'top_k'], template='You are a SQLite expert. Given an input question, first create a syntactically correct SQLite query to run, then look at the results of the query and return the answer to the input question.\\nUnless the user specifies in the question a specific number of examples to obtain, query for at most {top_k} results using the LIMIT clause as per SQLite. You can order the results to return the most informative data in the database.\\nNever query for all columns from a table. You must query only the columns that are needed to answer the question. Wrap each column name in double quotes (\") to denote them as delimited identifiers.\\nPay attention to use only the column names you can see in the tables below. Be careful to not query for columns that do not exist. Also, pay attention to which column is in which table.\\nPay attention to use date(\\'now\\') function to get the current date, if the question involves \"today\".\\n\\nUse the following format:\\n\\nQuestion: Question here\\nSQLQuery: SQL Query to run\\nSQLResult: Result of the SQLQuery\\nAnswer: Final answer here\\n\\nOnly use the following tables:\\n{table_info}\\n\\nQuestion: {input}')"
      ]
     },
     "execution_count": 19,
     "metadata": {},
     "output_type": "execute_result"
    }
   ],
   "source": [
    "SQL_PROMPTS['sqlite']"
   ]
  },
  {
   "cell_type": "code",
   "execution_count": 20,
   "id": "e96c22f5-9b22-4897-b89f-87327ad0990a",
   "metadata": {},
   "outputs": [],
   "source": [
    "from langchain.chains.openai_tools import create_extraction_chain_pydantic\n",
    "from langchain_core.pydantic_v1 import BaseModel, Field\n",
    "\n",
    "llm= ChatGroq(model=\"mixtral-8x7b-32768\", api_key=\"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\")\n"
   ]
  },
  {
   "cell_type": "markdown",
   "id": "02870e57-dc0e-4f53-8687-b65229b047f3",
   "metadata": {},
   "source": [
    "# SQL DB Connection"
   ]
  },
  {
   "cell_type": "code",
   "execution_count": 21,
   "id": "26a9ee52-b840-4bff-80ff-7d3bed846fe2",
   "metadata": {},
   "outputs": [],
   "source": [
    "# Path to the SQLite database file\n",
    "db_path = r\"C:\\Users\\Sridhar\\Documents\\Python Scripts\\3.SQL_Agent\\data\\sqlite-sakila.db\"\n",
    "\n",
    "# Construct the URI by manually replacing backslashes with forward slashes\n",
    "db_uri = \"sqlite:///\" + db_path.replace(\"\\\\\", \"/\")\n",
    "db = SQLDatabase.from_uri(db_uri)"
   ]
  },
  {
   "cell_type": "code",
   "execution_count": 24,
   "id": "b530c843-41a5-43bf-ad70-3bf51c6768a7",
   "metadata": {},
   "outputs": [
    {
     "data": {
      "text/plain": [
       "['actor',\n",
       " 'address',\n",
       " 'category',\n",
       " 'city',\n",
       " 'city_stats',\n",
       " 'country',\n",
       " 'customer',\n",
       " 'film',\n",
       " 'film_actor',\n",
       " 'film_category',\n",
       " 'film_text',\n",
       " 'inventory',\n",
       " 'language',\n",
       " 'payment',\n",
       " 'rental',\n",
       " 'staff',\n",
       " 'store']"
      ]
     },
     "execution_count": 24,
     "metadata": {},
     "output_type": "execute_result"
    }
   ],
   "source": [
    "db_tables = db.get_usable_table_names() # List the table names in that DB\n",
    "#db_tables"
   ]
  },
  {
   "cell_type": "code",
   "execution_count": 49,
   "id": "d4acb5aa-17fc-473b-af1e-0edfb728dc8d",
   "metadata": {},
   "outputs": [
    {
     "name": "stdout",
     "output_type": "stream",
     "text": [
      "       table_name                                            columns\n",
      "0           actor     [actor_id, first_name, last_name, last_update]\n",
      "1         address  [address_id, address, address2, district, city...\n",
      "2        category                   [category_id, name, last_update]\n",
      "3            city           [city_id, city, country_id, last_update]\n",
      "4      city_stats                   [city_name, population, country]\n",
      "5         country                 [country_id, country, last_update]\n",
      "6        customer  [customer_id, store_id, first_name, last_name,...\n",
      "7            film  [film_id, title, description, release_year, la...\n",
      "8      film_actor                   [actor_id, film_id, last_update]\n",
      "9   film_category                [film_id, category_id, last_update]\n",
      "10      film_text                      [film_id, title, description]\n",
      "11      inventory     [inventory_id, film_id, store_id, last_update]\n",
      "12       language                   [language_id, name, last_update]\n",
      "13        payment  [payment_id, customer_id, staff_id, rental_id,...\n",
      "14         rental  [rental_id, rental_date, inventory_id, custome...\n",
      "15          staff  [staff_id, first_name, last_name, address_id, ...\n",
      "16          store  [store_id, manager_staff_id, address_id, last_...\n"
     ]
    }
   ],
   "source": [
    "import pandas as pd\n",
    "\n",
    "result = {}\n",
    "# Assuming db_tables is a list of table names and conn is your database connection\n",
    "for table_name in db_tables:\n",
    "    output1 = pd.read_sql_query(f\"SELECT * FROM {table_name};\", conn)\n",
    "    result[table_name] = {'table_name': table_name, 'columns': output1.columns.tolist()}\n",
    "\n",
    "# Convert the dictionary to a list of dictionaries\n",
    "data = [{'table_name': table_name, 'columns': result[table_name]['columns']} for table_name in result]\n",
    "\n",
    "# Convert the list of dictionaries to a DataFrame\n",
    "df = pd.DataFrame(data)"
   ]
  },
  {
   "cell_type": "code",
   "execution_count": 50,
   "id": "9cac8999-5058-4b04-9aa3-6576717de89b",
   "metadata": {},
   "outputs": [
    {
     "data": {
      "text/html": [
       "<div>\n",
       "<style scoped>\n",
       "    .dataframe tbody tr th:only-of-type {\n",
       "        vertical-align: middle;\n",
       "    }\n",
       "\n",
       "    .dataframe tbody tr th {\n",
       "        vertical-align: top;\n",
       "    }\n",
       "\n",
       "    .dataframe thead th {\n",
       "        text-align: right;\n",
       "    }\n",
       "</style>\n",
       "<table border=\"1\" class=\"dataframe\">\n",
       "  <thead>\n",
       "    <tr style=\"text-align: right;\">\n",
       "      <th></th>\n",
       "      <th>table_name</th>\n",
       "      <th>columns</th>\n",
       "    </tr>\n",
       "  </thead>\n",
       "  <tbody>\n",
       "    <tr>\n",
       "      <th>0</th>\n",
       "      <td>actor</td>\n",
       "      <td>[actor_id, first_name, last_name, last_update]</td>\n",
       "    </tr>\n",
       "    <tr>\n",
       "      <th>1</th>\n",
       "      <td>address</td>\n",
       "      <td>[address_id, address, address2, district, city...</td>\n",
       "    </tr>\n",
       "    <tr>\n",
       "      <th>2</th>\n",
       "      <td>category</td>\n",
       "      <td>[category_id, name, last_update]</td>\n",
       "    </tr>\n",
       "    <tr>\n",
       "      <th>3</th>\n",
       "      <td>city</td>\n",
       "      <td>[city_id, city, country_id, last_update]</td>\n",
       "    </tr>\n",
       "    <tr>\n",
       "      <th>4</th>\n",
       "      <td>city_stats</td>\n",
       "      <td>[city_name, population, country]</td>\n",
       "    </tr>\n",
       "    <tr>\n",
       "      <th>5</th>\n",
       "      <td>country</td>\n",
       "      <td>[country_id, country, last_update]</td>\n",
       "    </tr>\n",
       "    <tr>\n",
       "      <th>6</th>\n",
       "      <td>customer</td>\n",
       "      <td>[customer_id, store_id, first_name, last_name,...</td>\n",
       "    </tr>\n",
       "    <tr>\n",
       "      <th>7</th>\n",
       "      <td>film</td>\n",
       "      <td>[film_id, title, description, release_year, la...</td>\n",
       "    </tr>\n",
       "    <tr>\n",
       "      <th>8</th>\n",
       "      <td>film_actor</td>\n",
       "      <td>[actor_id, film_id, last_update]</td>\n",
       "    </tr>\n",
       "    <tr>\n",
       "      <th>9</th>\n",
       "      <td>film_category</td>\n",
       "      <td>[film_id, category_id, last_update]</td>\n",
       "    </tr>\n",
       "    <tr>\n",
       "      <th>10</th>\n",
       "      <td>film_text</td>\n",
       "      <td>[film_id, title, description]</td>\n",
       "    </tr>\n",
       "    <tr>\n",
       "      <th>11</th>\n",
       "      <td>inventory</td>\n",
       "      <td>[inventory_id, film_id, store_id, last_update]</td>\n",
       "    </tr>\n",
       "    <tr>\n",
       "      <th>12</th>\n",
       "      <td>language</td>\n",
       "      <td>[language_id, name, last_update]</td>\n",
       "    </tr>\n",
       "    <tr>\n",
       "      <th>13</th>\n",
       "      <td>payment</td>\n",
       "      <td>[payment_id, customer_id, staff_id, rental_id,...</td>\n",
       "    </tr>\n",
       "    <tr>\n",
       "      <th>14</th>\n",
       "      <td>rental</td>\n",
       "      <td>[rental_id, rental_date, inventory_id, custome...</td>\n",
       "    </tr>\n",
       "    <tr>\n",
       "      <th>15</th>\n",
       "      <td>staff</td>\n",
       "      <td>[staff_id, first_name, last_name, address_id, ...</td>\n",
       "    </tr>\n",
       "    <tr>\n",
       "      <th>16</th>\n",
       "      <td>store</td>\n",
       "      <td>[store_id, manager_staff_id, address_id, last_...</td>\n",
       "    </tr>\n",
       "  </tbody>\n",
       "</table>\n",
       "</div>"
      ],
      "text/plain": [
       "       table_name                                            columns\n",
       "0           actor     [actor_id, first_name, last_name, last_update]\n",
       "1         address  [address_id, address, address2, district, city...\n",
       "2        category                   [category_id, name, last_update]\n",
       "3            city           [city_id, city, country_id, last_update]\n",
       "4      city_stats                   [city_name, population, country]\n",
       "5         country                 [country_id, country, last_update]\n",
       "6        customer  [customer_id, store_id, first_name, last_name,...\n",
       "7            film  [film_id, title, description, release_year, la...\n",
       "8      film_actor                   [actor_id, film_id, last_update]\n",
       "9   film_category                [film_id, category_id, last_update]\n",
       "10      film_text                      [film_id, title, description]\n",
       "11      inventory     [inventory_id, film_id, store_id, last_update]\n",
       "12       language                   [language_id, name, last_update]\n",
       "13        payment  [payment_id, customer_id, staff_id, rental_id,...\n",
       "14         rental  [rental_id, rental_date, inventory_id, custome...\n",
       "15          staff  [staff_id, first_name, last_name, address_id, ...\n",
       "16          store  [store_id, manager_staff_id, address_id, last_..."
      ]
     },
     "execution_count": 50,
     "metadata": {},
     "output_type": "execute_result"
    }
   ],
   "source": []
  },
  {
   "cell_type": "code",
   "execution_count": null,
   "id": "69fee9c7-0760-401c-96c2-529d8444f530",
   "metadata": {},
   "outputs": [],
   "source": []
  },
  {
   "cell_type": "code",
   "execution_count": 23,
   "id": "23bd2be6-ba36-482c-a4d1-a49fcfa933d6",
   "metadata": {},
   "outputs": [
    {
     "data": {
      "text/html": [
       "<div>\n",
       "<style scoped>\n",
       "    .dataframe tbody tr th:only-of-type {\n",
       "        vertical-align: middle;\n",
       "    }\n",
       "\n",
       "    .dataframe tbody tr th {\n",
       "        vertical-align: top;\n",
       "    }\n",
       "\n",
       "    .dataframe thead th {\n",
       "        text-align: right;\n",
       "    }\n",
       "</style>\n",
       "<table border=\"1\" class=\"dataframe\">\n",
       "  <thead>\n",
       "    <tr style=\"text-align: right;\">\n",
       "      <th></th>\n",
       "      <th>type</th>\n",
       "      <th>name</th>\n",
       "      <th>tbl_name</th>\n",
       "      <th>rootpage</th>\n",
       "      <th>sql</th>\n",
       "    </tr>\n",
       "  </thead>\n",
       "  <tbody>\n",
       "    <tr>\n",
       "      <th>0</th>\n",
       "      <td>table</td>\n",
       "      <td>actor</td>\n",
       "      <td>actor</td>\n",
       "      <td>2</td>\n",
       "      <td>CREATE TABLE actor (\\n  actor_id numeric NOT N...</td>\n",
       "    </tr>\n",
       "    <tr>\n",
       "      <th>1</th>\n",
       "      <td>table</td>\n",
       "      <td>country</td>\n",
       "      <td>country</td>\n",
       "      <td>5</td>\n",
       "      <td>CREATE TABLE country (\\n  country_id SMALLINT ...</td>\n",
       "    </tr>\n",
       "    <tr>\n",
       "      <th>2</th>\n",
       "      <td>table</td>\n",
       "      <td>city</td>\n",
       "      <td>city</td>\n",
       "      <td>7</td>\n",
       "      <td>CREATE TABLE city (\\n  city_id int NOT NULL,\\n...</td>\n",
       "    </tr>\n",
       "    <tr>\n",
       "      <th>3</th>\n",
       "      <td>table</td>\n",
       "      <td>address</td>\n",
       "      <td>address</td>\n",
       "      <td>10</td>\n",
       "      <td>CREATE TABLE address (\\n  address_id int NOT N...</td>\n",
       "    </tr>\n",
       "    <tr>\n",
       "      <th>4</th>\n",
       "      <td>table</td>\n",
       "      <td>language</td>\n",
       "      <td>language</td>\n",
       "      <td>13</td>\n",
       "      <td>CREATE TABLE language (\\n  language_id SMALLIN...</td>\n",
       "    </tr>\n",
       "    <tr>\n",
       "      <th>5</th>\n",
       "      <td>table</td>\n",
       "      <td>category</td>\n",
       "      <td>category</td>\n",
       "      <td>15</td>\n",
       "      <td>CREATE TABLE category (\\n  category_id SMALLIN...</td>\n",
       "    </tr>\n",
       "    <tr>\n",
       "      <th>6</th>\n",
       "      <td>table</td>\n",
       "      <td>customer</td>\n",
       "      <td>customer</td>\n",
       "      <td>19</td>\n",
       "      <td>CREATE TABLE customer (\\n  customer_id INT NOT...</td>\n",
       "    </tr>\n",
       "    <tr>\n",
       "      <th>7</th>\n",
       "      <td>table</td>\n",
       "      <td>film</td>\n",
       "      <td>film</td>\n",
       "      <td>24</td>\n",
       "      <td>CREATE TABLE film (\\n  film_id int NOT NULL,\\n...</td>\n",
       "    </tr>\n",
       "    <tr>\n",
       "      <th>8</th>\n",
       "      <td>table</td>\n",
       "      <td>film_actor</td>\n",
       "      <td>film_actor</td>\n",
       "      <td>28</td>\n",
       "      <td>CREATE TABLE film_actor (\\n  actor_id INT NOT ...</td>\n",
       "    </tr>\n",
       "    <tr>\n",
       "      <th>9</th>\n",
       "      <td>table</td>\n",
       "      <td>film_category</td>\n",
       "      <td>film_category</td>\n",
       "      <td>33</td>\n",
       "      <td>CREATE TABLE film_category (\\n  film_id INT NO...</td>\n",
       "    </tr>\n",
       "    <tr>\n",
       "      <th>10</th>\n",
       "      <td>table</td>\n",
       "      <td>film_text</td>\n",
       "      <td>film_text</td>\n",
       "      <td>37</td>\n",
       "      <td>CREATE TABLE film_text (\\n  film_id SMALLINT N...</td>\n",
       "    </tr>\n",
       "    <tr>\n",
       "      <th>11</th>\n",
       "      <td>table</td>\n",
       "      <td>inventory</td>\n",
       "      <td>inventory</td>\n",
       "      <td>39</td>\n",
       "      <td>CREATE TABLE inventory (\\n  inventory_id INT N...</td>\n",
       "    </tr>\n",
       "    <tr>\n",
       "      <th>12</th>\n",
       "      <td>table</td>\n",
       "      <td>staff</td>\n",
       "      <td>staff</td>\n",
       "      <td>43</td>\n",
       "      <td>CREATE TABLE staff (\\n  staff_id SMALLINT NOT ...</td>\n",
       "    </tr>\n",
       "    <tr>\n",
       "      <th>13</th>\n",
       "      <td>table</td>\n",
       "      <td>store</td>\n",
       "      <td>store</td>\n",
       "      <td>48</td>\n",
       "      <td>CREATE TABLE store (\\n  store_id INT NOT NULL,...</td>\n",
       "    </tr>\n",
       "    <tr>\n",
       "      <th>14</th>\n",
       "      <td>table</td>\n",
       "      <td>payment</td>\n",
       "      <td>payment</td>\n",
       "      <td>52</td>\n",
       "      <td>CREATE TABLE payment (\\n  payment_id int NOT N...</td>\n",
       "    </tr>\n",
       "    <tr>\n",
       "      <th>15</th>\n",
       "      <td>table</td>\n",
       "      <td>rental</td>\n",
       "      <td>rental</td>\n",
       "      <td>56</td>\n",
       "      <td>CREATE TABLE rental (\\n  rental_id INT NOT NUL...</td>\n",
       "    </tr>\n",
       "    <tr>\n",
       "      <th>16</th>\n",
       "      <td>table</td>\n",
       "      <td>city_stats</td>\n",
       "      <td>city_stats</td>\n",
       "      <td>1424</td>\n",
       "      <td>CREATE TABLE city_stats (\\n\\tcity_name VARCHAR...</td>\n",
       "    </tr>\n",
       "  </tbody>\n",
       "</table>\n",
       "</div>"
      ],
      "text/plain": [
       "     type           name       tbl_name  rootpage  \\\n",
       "0   table          actor          actor         2   \n",
       "1   table        country        country         5   \n",
       "2   table           city           city         7   \n",
       "3   table        address        address        10   \n",
       "4   table       language       language        13   \n",
       "5   table       category       category        15   \n",
       "6   table       customer       customer        19   \n",
       "7   table           film           film        24   \n",
       "8   table     film_actor     film_actor        28   \n",
       "9   table  film_category  film_category        33   \n",
       "10  table      film_text      film_text        37   \n",
       "11  table      inventory      inventory        39   \n",
       "12  table          staff          staff        43   \n",
       "13  table          store          store        48   \n",
       "14  table        payment        payment        52   \n",
       "15  table         rental         rental        56   \n",
       "16  table     city_stats     city_stats      1424   \n",
       "\n",
       "                                                  sql  \n",
       "0   CREATE TABLE actor (\\n  actor_id numeric NOT N...  \n",
       "1   CREATE TABLE country (\\n  country_id SMALLINT ...  \n",
       "2   CREATE TABLE city (\\n  city_id int NOT NULL,\\n...  \n",
       "3   CREATE TABLE address (\\n  address_id int NOT N...  \n",
       "4   CREATE TABLE language (\\n  language_id SMALLIN...  \n",
       "5   CREATE TABLE category (\\n  category_id SMALLIN...  \n",
       "6   CREATE TABLE customer (\\n  customer_id INT NOT...  \n",
       "7   CREATE TABLE film (\\n  film_id int NOT NULL,\\n...  \n",
       "8   CREATE TABLE film_actor (\\n  actor_id INT NOT ...  \n",
       "9   CREATE TABLE film_category (\\n  film_id INT NO...  \n",
       "10  CREATE TABLE film_text (\\n  film_id SMALLINT N...  \n",
       "11  CREATE TABLE inventory (\\n  inventory_id INT N...  \n",
       "12  CREATE TABLE staff (\\n  staff_id SMALLINT NOT ...  \n",
       "13  CREATE TABLE store (\\n  store_id INT NOT NULL,...  \n",
       "14  CREATE TABLE payment (\\n  payment_id int NOT N...  \n",
       "15  CREATE TABLE rental (\\n  rental_id INT NOT NUL...  \n",
       "16  CREATE TABLE city_stats (\\n\\tcity_name VARCHAR...  "
      ]
     },
     "execution_count": 23,
     "metadata": {},
     "output_type": "execute_result"
    }
   ],
   "source": [
    "def connect_to_sqlite(db_file):\n",
    "    conn = sqlite3.connect(db_file)\n",
    "    return conn\n",
    "    \n",
    "# Example usage\n",
    "conn = connect_to_sqlite(db_path)\n",
    "\n",
    "# Displaying all the tables in the Sakila Database\n",
    "tables = pd.read_sql(\"\"\"\n",
    "\n",
    "SELECT *\n",
    "FROM sqlite_master\n",
    "WHERE type = 'table';\n",
    "\n",
    "\"\"\", conn)\n",
    "tables"
   ]
  },
  {
   "cell_type": "code",
   "execution_count": 52,
   "id": "cf092d59-4f24-4498-928a-026fbb0d474d",
   "metadata": {},
   "outputs": [],
   "source": [
    "sample = pd.read_csv(\"database_table_descriptions.csv\")"
   ]
  },
  {
   "cell_type": "code",
   "execution_count": 53,
   "id": "ab026ea9-191c-45b0-9f1e-2829945f38e0",
   "metadata": {},
   "outputs": [
    {
     "data": {
      "text/html": [
       "<div>\n",
       "<style scoped>\n",
       "    .dataframe tbody tr th:only-of-type {\n",
       "        vertical-align: middle;\n",
       "    }\n",
       "\n",
       "    .dataframe tbody tr th {\n",
       "        vertical-align: top;\n",
       "    }\n",
       "\n",
       "    .dataframe thead th {\n",
       "        text-align: right;\n",
       "    }\n",
       "</style>\n",
       "<table border=\"1\" class=\"dataframe\">\n",
       "  <thead>\n",
       "    <tr style=\"text-align: right;\">\n",
       "      <th></th>\n",
       "      <th>Table</th>\n",
       "      <th>Description</th>\n",
       "    </tr>\n",
       "  </thead>\n",
       "  <tbody>\n",
       "    <tr>\n",
       "      <th>0</th>\n",
       "      <td>productlines</td>\n",
       "      <td>Stores information about the different product...</td>\n",
       "    </tr>\n",
       "    <tr>\n",
       "      <th>1</th>\n",
       "      <td>products</td>\n",
       "      <td>Contains details of each product sold by the c...</td>\n",
       "    </tr>\n",
       "    <tr>\n",
       "      <th>2</th>\n",
       "      <td>offices</td>\n",
       "      <td>Holds data on the company's sales offices, inc...</td>\n",
       "    </tr>\n",
       "    <tr>\n",
       "      <th>3</th>\n",
       "      <td>employees</td>\n",
       "      <td>Stores information about employees, including ...</td>\n",
       "    </tr>\n",
       "    <tr>\n",
       "      <th>4</th>\n",
       "      <td>customers</td>\n",
       "      <td>Captures data on customers, including customer...</td>\n",
       "    </tr>\n",
       "    <tr>\n",
       "      <th>5</th>\n",
       "      <td>payments</td>\n",
       "      <td>Records payments made by customers, tracking t...</td>\n",
       "    </tr>\n",
       "    <tr>\n",
       "      <th>6</th>\n",
       "      <td>orders</td>\n",
       "      <td>Details each sales order placed by customers, ...</td>\n",
       "    </tr>\n",
       "    <tr>\n",
       "      <th>7</th>\n",
       "      <td>orderdetails</td>\n",
       "      <td>Describes individual line items for each sales...</td>\n",
       "    </tr>\n",
       "  </tbody>\n",
       "</table>\n",
       "</div>"
      ],
      "text/plain": [
       "          Table                                        Description\n",
       "0  productlines  Stores information about the different product...\n",
       "1      products  Contains details of each product sold by the c...\n",
       "2       offices  Holds data on the company's sales offices, inc...\n",
       "3     employees  Stores information about employees, including ...\n",
       "4     customers  Captures data on customers, including customer...\n",
       "5      payments  Records payments made by customers, tracking t...\n",
       "6        orders  Details each sales order placed by customers, ...\n",
       "7  orderdetails  Describes individual line items for each sales..."
      ]
     },
     "execution_count": 53,
     "metadata": {},
     "output_type": "execute_result"
    }
   ],
   "source": [
    "sample"
   ]
  },
  {
   "cell_type": "code",
   "execution_count": 55,
   "id": "958fc68b-cc70-4416-8381-53c73e88f7d9",
   "metadata": {},
   "outputs": [
    {
     "data": {
      "text/plain": [
       "array(['Stores information about the different product lines offered by the company, including a unique name, textual description, HTML description, and image. Categorizes products into different lines.',\n",
       "       'Contains details of each product sold by the company, including code, name, product line, scale, vendor, description, stock quantity, buy price, and MSRP. Linked to the productlines table.',\n",
       "       \"Holds data on the company's sales offices, including office code, city, phone number, address, state, country, postal code, and territory. Each office is uniquely identified by its office code.\",\n",
       "       'Stores information about employees, including number, last name, first name, job title, contact info, and office code. Links to offices and maps organizational structure through the reportsTo attribute.',\n",
       "       'Captures data on customers, including customer number, name, contact details, address, assigned sales rep, and credit limit. Central to managing customer relationships and sales processes.',\n",
       "       'Records payments made by customers, tracking the customer number, check number, payment date, and amount. Linked to the customers table for financial tracking and account management.',\n",
       "       'Details each sales order placed by customers, including order number, dates, status, comments, and customer number. Linked to the customers table, tracking sales transactions.',\n",
       "       'Describes individual line items for each sales order, including order number, product code, quantity, price, and order line number. Links orders to products, detailing the items sold.'],\n",
       "      dtype=object)"
      ]
     },
     "execution_count": 55,
     "metadata": {},
     "output_type": "execute_result"
    }
   ],
   "source": [
    "sample.Description.values"
   ]
  },
  {
   "cell_type": "markdown",
   "id": "94fb6354-de51-4331-982c-be573c2504d3",
   "metadata": {},
   "source": [
    "# Single Tabel"
   ]
  },
  {
   "cell_type": "code",
   "execution_count": null,
   "id": "3f459c05-6e47-423f-9b03-594791e9a9eb",
   "metadata": {
    "scrolled": true
   },
   "outputs": [],
   "source": [
    "# generate_query = create_sql_query_chain(llm, db)\n",
    "# query = generate_query.invoke({\"question\": \"what are the cities\"})\n",
    "# # \"what is price of `1968 Ford Mustang`\"\n",
    "# print(query)"
   ]
  },
  {
   "cell_type": "code",
   "execution_count": null,
   "id": "0a1a0f95-3f47-45fe-ab71-dd90341b3367",
   "metadata": {
    "scrolled": true
   },
   "outputs": [],
   "source": [
    "from langchain_community.tools.sql_database.tool import QuerySQLDataBaseTool\n",
    "execute_query = QuerySQLDataBaseTool(db=db)\n",
    "# execute_query.invoke(query)\n"
   ]
  },
  {
   "cell_type": "markdown",
   "id": "ec6899a8-869e-4101-b0bb-364480336f88",
   "metadata": {},
   "source": [
    "## Many tables"
   ]
  },
  {
   "cell_type": "code",
   "execution_count": null,
   "id": "15c9b489-0ae4-4a61-a466-a799ffc58a1a",
   "metadata": {},
   "outputs": [],
   "source": []
  },
  {
   "cell_type": "code",
   "execution_count": null,
   "id": "d645a03c-5646-4e2f-bfb6-7fc8588da6e6",
   "metadata": {},
   "outputs": [],
   "source": [
    "class Table(BaseModel):\n",
    "    \"\"\"Table in SQL database.\"\"\"\n",
    "\n",
    "    name: str = Field(description=\"Name of table in SQL database.\")"
   ]
  },
  {
   "cell_type": "markdown",
   "id": "07d69185-0084-46d3-89f3-f74ea3775b37",
   "metadata": {
    "scrolled": true
   },
   "source": [
    "# Dynamic Relevant Table Selection"
   ]
  },
  {
   "cell_type": "code",
   "execution_count": null,
   "id": "c754c0aa-305d-4ece-ba80-45407e4844d9",
   "metadata": {},
   "outputs": [],
   "source": [
    "\n",
    "def get_table_details():\n",
    "    # Read the CSV file into a DataFrame\n",
    "    table_description = pd.read_csv(\"database_table_descriptions.csv\")\n",
    "    table_docs = []\n",
    "\n",
    "    # Iterate over the DataFrame rows to create Document objects\n",
    "    table_details = \"\"\n",
    "    for index, row in table_description.iterrows():\n",
    "        table_details += f\"Table Name: {row['Table']}\\nTable Description: {row['Description']}\\n\\n\"\n",
    "\n",
    "    return table_details"
   ]
  },
  {
   "cell_type": "code",
   "execution_count": null,
   "id": "936374d1-1b03-4959-8635-9403b24954ca",
   "metadata": {},
   "outputs": [],
   "source": [
    "table_details = get_table_details()\n",
    "print(table_details)"
   ]
  },
  {
   "cell_type": "code",
   "execution_count": null,
   "id": "8dda66e8-cb65-465b-b831-43abbdb5ce94",
   "metadata": {},
   "outputs": [],
   "source": [
    "# Create the Improved Prompt\n",
    "table_details_prompt = f\"\"\"Return the names of SQL tables that are MOST LIKELY to be relevant to the user question. \\\n",
    "The tables are:\n",
    "\n",
    "{table_details}\n",
    "\n",
    "Based on the information provided, include tables where at least 70% of the data is relevant to the user query.\n",
    "\n",
    "Remember to include ALL POTENTIALLY RELEVANT tables, even if you're not sure that they're needed.\"\"\"\n"
   ]
  },
  {
   "cell_type": "code",
   "execution_count": null,
   "id": "6ae50316-372a-45da-8305-a73626291792",
   "metadata": {},
   "outputs": [],
   "source": [
    "table_chain = create_extraction_chain_pydantic(Table, llm, system_message=table_details_prompt)"
   ]
  },
  {
   "cell_type": "code",
   "execution_count": null,
   "id": "1ffe0569-7f5e-4627-8ab0-65019e67f0fa",
   "metadata": {},
   "outputs": [],
   "source": [
    "# Invoke the chain with the input query\n",
    "try:\n",
    "    tables = table_chain.invoke({\"input\": \"give me the list customers\"})\n",
    "    print(tables)\n",
    "except Exception as e:\n",
    "    print(f\"Error: {e}\")"
   ]
  },
  {
   "cell_type": "code",
   "execution_count": null,
   "id": "b5bdde06-7764-43b9-9476-cda197a3ef3d",
   "metadata": {},
   "outputs": [],
   "source": [
    "from langchain.chains.openai_tools import create_extraction_chain_pydantic\n",
    "from langchain_core.pydantic_v1 import BaseModel, Field\n",
    "from typing import List"
   ]
  },
  {
   "cell_type": "code",
   "execution_count": null,
   "id": "30e9a0b4-67c7-458a-a706-a57da58262f9",
   "metadata": {},
   "outputs": [],
   "source": [
    "def get_tables(tables: List[Table]) -> List[str]:\n",
    "    tables  = [table.name for table in tables]\n",
    "    return tables\n",
    "\n"
   ]
  },
  {
   "cell_type": "code",
   "execution_count": null,
   "id": "3a863b93-d03c-4992-b181-3f35081052dc",
   "metadata": {},
   "outputs": [],
   "source": [
    "select_table = {\"input\": itemgetter(\"question\")} | create_extraction_chain_pydantic(Table, llm, system_message=table_details_prompt) | get_tables\n"
   ]
  },
  {
   "cell_type": "code",
   "execution_count": null,
   "id": "9bc872e2-a436-403d-8e42-f65fa602f9f0",
   "metadata": {},
   "outputs": [],
   "source": [
    "seleted_table =select_table.invoke({\"question\": \"give me the list customers\"})\n"
   ]
  },
  {
   "cell_type": "code",
   "execution_count": null,
   "id": "71a6be09-9c72-4c69-bff6-436626c3cc4a",
   "metadata": {
    "scrolled": true
   },
   "outputs": [],
   "source": [
    "select_table"
   ]
  },
  {
   "cell_type": "code",
   "execution_count": null,
   "id": "db073ec0-0bb8-46fd-b04e-08fd8d696c79",
   "metadata": {},
   "outputs": [],
   "source": [
    "final_prompt = ChatPromptTemplate.from_messages(\n",
    "     [\n",
    "         (\"system\", \"You are a MySQL expert. Given an input question, create a syntactically correct MySQL query to run.\"), # Unless otherwise specificed.\\n\\nHere is the relevant table info: {table_info}\\n\\nBelow are a number of examples of questions and their corresponding SQL queries.\"),\n",
    "         # few_shot_prompt,\n",
    "         # (\"human\", \"{input}\"),\n",
    "     ]\n",
    " )\n",
    "print(final_prompt.format(input= \"give me the list products with more quantity\",table_info=\"city\"))\n",
    "generate_query = create_sql_query_chain(llm, db)\n"
   ]
  },
  {
   "cell_type": "code",
   "execution_count": null,
   "id": "a71c2c6b-e551-44b7-83ce-a18b516ef9e6",
   "metadata": {},
   "outputs": [],
   "source": [
    " answer_prompt = PromptTemplate.from_template(\n",
    "     \"\"\"Given the following user question, corresponding SQL query, and SQL result, answer the user question.\n",
    "\n",
    " Question: {question}\n",
    " SQL Query: {query}\n",
    " SQL Result: {result}\n",
    " Answer: \"\"\"\n",
    " )\n",
    "rephrase_answer = answer_prompt | llm | StrOutputParser()\n"
   ]
  },
  {
   "cell_type": "code",
   "execution_count": null,
   "id": "104d9b81-ae31-4135-8821-e64174af2a64",
   "metadata": {},
   "outputs": [],
   "source": [
    "#rephrase_answer"
   ]
  },
  {
   "cell_type": "code",
   "execution_count": null,
   "id": "87b16bb7-e913-43b1-b2cd-ae16a41f6eae",
   "metadata": {},
   "outputs": [],
   "source": [
    "chain = (\n",
    "RunnablePassthrough.assign(table_names_to_use=select_table) |\n",
    "RunnablePassthrough.assign(query=generate_query).assign(\n",
    "    result=itemgetter(\"query\") | execute_query\n",
    ")\n",
    "#| rephrase_answer\n",
    ")\n",
    "response= chain.invoke({\"question\": \"give me the list customer\"})"
   ]
  },
  {
   "cell_type": "code",
   "execution_count": null,
   "id": "b3aea785-cb09-4832-9a34-a7e1d84c0acb",
   "metadata": {},
   "outputs": [],
   "source": []
  },
  {
   "cell_type": "code",
   "execution_count": null,
   "id": "b6ff0b3b-1cb7-4989-bd6d-81fcaac3765e",
   "metadata": {},
   "outputs": [],
   "source": [
    "# chain = (\n",
    "# RunnablePassthrough.assign(table_names_to_use=select_table) |\n",
    "# RunnablePassthrough.assign(query=generate_query).assign(\n",
    "#     result=itemgetter(\"query\") | execute_query\n",
    "# )\n",
    "# | rephrase_answer\n",
    "# )\n",
    "# chain.invoke({\"question\": \"give me the list products with more quantity\"})"
   ]
  },
  {
   "cell_type": "code",
   "execution_count": null,
   "id": "ba2edf76-e562-4476-9a49-9e5281cc1890",
   "metadata": {},
   "outputs": [],
   "source": [
    "# table_names= db.get_usable_table_names()\n",
    "# table_names= 'city' #'city\\nactor\\naddress\\ncategory'"
   ]
  },
  {
   "cell_type": "code",
   "execution_count": null,
   "id": "a31cfd45-1ff9-4ef1-9735-4c54879e9766",
   "metadata": {},
   "outputs": [],
   "source": [
    "# table_details_prompt = f\"\"\"Return the names of ALL the SQL tables that MIGHT be relevant to the user question. \\\n",
    "# The tables are:\n",
    "\n",
    "# {table_names}\n",
    "\n",
    "# Remember to include ALL POTENTIALLY RELEVANT tables, even if you're not sure that they're needed.\"\"\""
   ]
  },
  {
   "cell_type": "code",
   "execution_count": null,
   "id": "25b37c36-db93-4dab-b7cc-1d2f4e473ae4",
   "metadata": {},
   "outputs": [],
   "source": []
  },
  {
   "cell_type": "code",
   "execution_count": null,
   "id": "8e8d98e1-0988-4ee1-b538-42669ca71187",
   "metadata": {},
   "outputs": [],
   "source": [
    "# table_chain = create_extraction_chain_pydantic(Table, llm, system_message=table_details_prompt)\n"
   ]
  },
  {
   "cell_type": "code",
   "execution_count": null,
   "id": "56f78a3d-7071-4905-b197-24a70edbf2dc",
   "metadata": {},
   "outputs": [],
   "source": [
    "# table_chain.invoke({\"input\": \"show me the list of cities\"})  # give me details of customer and their order count\n"
   ]
  },
  {
   "cell_type": "code",
   "execution_count": null,
   "id": "e1ef2e23-9ff8-4bba-831f-dc3bdea97f38",
   "metadata": {},
   "outputs": [],
   "source": [
    "# table_chain.invoke({\"input\": \"what are the cities\"})"
   ]
  },
  {
   "cell_type": "code",
   "execution_count": null,
   "id": "d422907f-f1fc-4fcc-a45d-4811474e08b3",
   "metadata": {},
   "outputs": [],
   "source": []
  },
  {
   "cell_type": "code",
   "execution_count": null,
   "id": "f18b5167-04cd-4419-9028-356b5806330a",
   "metadata": {},
   "outputs": [],
   "source": [
    "# def get_tables(tables: List[Table]) -> List[str]:\n",
    "#     tables  = [table.name for table in tables]\n",
    "#     return tables\n",
    "\n",
    "# select_table = {\"input\": itemgetter(\"question\")} | create_extraction_chain_pydantic(Table, llm, system_message=table_details_prompt) | get_tables"
   ]
  },
  {
   "cell_type": "code",
   "execution_count": null,
   "id": "27973a8b-abef-4ff6-9019-0c013b4a0170",
   "metadata": {},
   "outputs": [],
   "source": []
  },
  {
   "cell_type": "code",
   "execution_count": null,
   "id": "1a4af3d6-3c6f-46a8-800d-5a22da5cc5d4",
   "metadata": {},
   "outputs": [],
   "source": []
  },
  {
   "cell_type": "code",
   "execution_count": null,
   "id": "3d077b61-6a3b-4024-b52d-79c858874cdf",
   "metadata": {},
   "outputs": [],
   "source": [
    " # few_shot_prompt = FewShotChatMessagePromptTemplate(\n",
    " #     example_prompt=example_prompt,\n",
    " #     examples=examples,\n",
    " #     # input_variables=[\"input\",\"top_k\"],\n",
    " #     input_variables=[\"input\"],\n",
    " # )"
   ]
  },
  {
   "cell_type": "code",
   "execution_count": null,
   "id": "fba691e7-a9c4-48ac-9dc1-8bb1397c7595",
   "metadata": {
    "scrolled": true
   },
   "outputs": [],
   "source": []
  },
  {
   "cell_type": "code",
   "execution_count": null,
   "id": "da9bd3e4-e621-4a92-bb6a-f4d3efc79b1c",
   "metadata": {},
   "outputs": [],
   "source": []
  },
  {
   "cell_type": "code",
   "execution_count": null,
   "id": "56e53662-49a5-48f6-99bb-0754a5ea5ca2",
   "metadata": {
    "scrolled": true
   },
   "outputs": [],
   "source": [
    "print(response)"
   ]
  },
  {
   "cell_type": "markdown",
   "id": "035be691-a3cc-4449-a68c-e52674e5db7a",
   "metadata": {},
   "source": [
    "# Done"
   ]
  },
  {
   "cell_type": "code",
   "execution_count": null,
   "id": "c1d43fb4-28d8-4ab8-a998-1a7c00c87937",
   "metadata": {},
   "outputs": [],
   "source": [
    " examples = [\n",
    "     {\n",
    "         \"input\": \"List all customers in France with a credit limit over 20,000.\",\n",
    "         \"query\": \"SELECT * FROM customers WHERE country = 'France' AND creditLimit > 20000;\"\n",
    "     },\n",
    "     {\n",
    "         \"input\": \"Get the highest payment amount made by any customer.\",\n",
    "         \"query\": \"SELECT MAX(amount) FROM payments;\"\n",
    "     },\n",
    "    \n",
    " ]"
   ]
  },
  {
   "cell_type": "code",
   "execution_count": null,
   "id": "0b8340db-dfbf-4d5a-8345-ca9ebda35efe",
   "metadata": {},
   "outputs": [],
   "source": [
    " example_prompt = ChatPromptTemplate.from_messages(\n",
    "     [\n",
    "         (\"human\", \"{input}\\nSQLQuery:\"),\n",
    "         (\"ai\", \"{query}\"),\n",
    "     ]\n",
    " )"
   ]
  },
  {
   "cell_type": "code",
   "execution_count": null,
   "id": "c63839da-8d93-4864-bef1-0ec9f5cebe1a",
   "metadata": {},
   "outputs": [],
   "source": []
  },
  {
   "cell_type": "code",
   "execution_count": null,
   "id": "6359ab88-77c1-4980-bcfd-649e39fc61d9",
   "metadata": {},
   "outputs": [],
   "source": []
  },
  {
   "cell_type": "code",
   "execution_count": null,
   "id": "168bbb39-4ebe-4a06-93ff-3c78222aba87",
   "metadata": {},
   "outputs": [],
   "source": []
  },
  {
   "cell_type": "code",
   "execution_count": null,
   "id": "9338d5ce-a94b-4325-979e-a4df644c981e",
   "metadata": {},
   "outputs": [],
   "source": []
  },
  {
   "cell_type": "code",
   "execution_count": null,
   "id": "821ea2ec-5023-421f-9c74-e62f18e43a71",
   "metadata": {},
   "outputs": [],
   "source": []
  },
  {
   "cell_type": "code",
   "execution_count": null,
   "id": "02edffe2-c6d9-43a3-b1ce-106cf072a9e3",
   "metadata": {},
   "outputs": [],
   "source": [
    "few_shot_prompt = FewShotChatMessagePromptTemplate(\n",
    "     example_prompt=example_prompt,\n",
    "     examples=examples,\n",
    "     # input_variables=[\"input\",\"top_k\"],\n",
    "     input_variables=[\"input\"],\n",
    " )\n",
    "print(few_shot_prompt.format(input1=\"How many products are there?\"))"
   ]
  },
  {
   "cell_type": "code",
   "execution_count": null,
   "id": "c2045348-af71-4ca9-982d-b572a4836ad7",
   "metadata": {},
   "outputs": [],
   "source": [
    " final_prompt = ChatPromptTemplate.from_messages(\n",
    "     [\n",
    "         (\"system\", \"You are a MySQL expert. Given an input question, create a syntactically correct MySQL query to run. Unless otherwise specificed.\\n\\nHere is the relevant table info: {table_info}\\n\\nBelow are a number of examples of questions and their corresponding SQL queries.\"),\n",
    "         few_shot_prompt,\n",
    "         (\"human\", \"{input}\"),\n",
    "     ]\n",
    " )"
   ]
  },
  {
   "cell_type": "code",
   "execution_count": null,
   "id": "cfc0565a-c309-42fe-93cb-aa0385bbf8c7",
   "metadata": {},
   "outputs": [],
   "source": [
    "generate_query = create_sql_query_chain(llm, db,final_prompt)"
   ]
  },
  {
   "cell_type": "code",
   "execution_count": null,
   "id": "5304cb74-1fe1-4a66-8529-5308705d6aa3",
   "metadata": {},
   "outputs": [],
   "source": [
    "chain = (\n",
    "RunnablePassthrough.assign(table_names_to_use=select_table) |\n",
    "RunnablePassthrough.assign(query=generate_query).assign(\n",
    "    result=itemgetter(\"query\") | execute_query\n",
    ")\n",
    "| rephrase_answer\n",
    ")\n",
    "chain.invoke({\"question\": \"How many cities are there ?\"})"
   ]
  },
  {
   "cell_type": "code",
   "execution_count": null,
   "id": "413ee440-1e21-4ec1-b46d-7a6f02d6590d",
   "metadata": {},
   "outputs": [],
   "source": [
    "chain.invoke({\"question\": \"How many cutomers with order count more than 5\"})"
   ]
  },
  {
   "cell_type": "code",
   "execution_count": null,
   "id": "a2a1bbe0-0b79-42ef-8c51-51356c5b7fbd",
   "metadata": {},
   "outputs": [],
   "source": []
  },
  {
   "cell_type": "code",
   "execution_count": null,
   "id": "3318ef17-d11f-4a13-96e5-de7e5db97f49",
   "metadata": {},
   "outputs": [],
   "source": []
  },
  {
   "cell_type": "code",
   "execution_count": null,
   "id": "a51f1632-2291-4928-a5ba-827a0efe395d",
   "metadata": {},
   "outputs": [],
   "source": []
  },
  {
   "cell_type": "markdown",
   "id": "cf934a22-8043-425f-b1cd-4db6fc0a4213",
   "metadata": {},
   "source": [
    "# Langchain SQL Query Generator"
   ]
  },
  {
   "cell_type": "markdown",
   "id": "ca60832f-acd8-437b-aaac-ae8a20b89a58",
   "metadata": {},
   "source": [
    "#### can we edit the context to scope the tables to look into?"
   ]
  },
  {
   "cell_type": "code",
   "execution_count": null,
   "id": "9c353618-5b67-4041-9833-9c1fe5a2be0b",
   "metadata": {},
   "outputs": [],
   "source": [
    "# def chain_create(db):\n",
    "#     \"\"\"SQL query chain to execute queries\n",
    "#     \"\"\"\n",
    "#     llm= ChatGroq(model=\"mixtral-8x7b-32768\", api_key=\"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\")\n",
    "    \n",
    "#     # Create the SQL query chain with the specified language model and database connection\n",
    "#     chain = create_sql_query_chain(llm, db)\n",
    "    \n",
    "#     return chain"
   ]
  },
  {
   "cell_type": "code",
   "execution_count": null,
   "id": "b598e933-5ae5-4ba6-b44e-ab2c47f267af",
   "metadata": {
    "scrolled": true
   },
   "outputs": [],
   "source": [
    "chain= chain_create(db)"
   ]
  },
  {
   "cell_type": "code",
   "execution_count": null,
   "id": "849d3656-5edf-4071-8fcb-d648c285fcba",
   "metadata": {
    "scrolled": true
   },
   "outputs": [],
   "source": [
    "chain.get_prompts()[0].pretty_print()"
   ]
  },
  {
   "cell_type": "code",
   "execution_count": null,
   "id": "87a48291-44a7-4441-ae2d-8bab0db0c311",
   "metadata": {},
   "outputs": [],
   "source": [
    "# context = db.get_context()\n",
    "# # print(list(context))\n",
    "# print(context[\"table_info\"])"
   ]
  },
  {
   "cell_type": "code",
   "execution_count": null,
   "id": "12a78562-c213-4716-a823-2478bb272645",
   "metadata": {
    "scrolled": true
   },
   "outputs": [],
   "source": [
    "#chain.get_prompts()[0]"
   ]
  },
  {
   "cell_type": "code",
   "execution_count": null,
   "id": "757135b5-ad68-43ea-a950-21935e65be34",
   "metadata": {},
   "outputs": [],
   "source": [
    "len(context[\"table_info\"])"
   ]
  },
  {
   "cell_type": "code",
   "execution_count": null,
   "id": "adc23bff-4c73-434e-a419-3107067b04a7",
   "metadata": {
    "scrolled": true
   },
   "outputs": [],
   "source": [
    "# prompt_with_context = chain.get_prompts()[0].partial(table_info=context[\"table_info\"])\n",
    "# print(prompt_with_context.pretty_repr()[:1500])"
   ]
  },
  {
   "cell_type": "markdown",
   "id": "8fa2f07c-ccab-477a-858c-059fcd95b32a",
   "metadata": {},
   "source": [
    "# Query Validation\n",
    "https://python.langchain.com/v0.1/docs/use_cases/sql/query_checking/"
   ]
  },
  {
   "cell_type": "code",
   "execution_count": null,
   "id": "a43eed9a-5add-4b4a-88ee-6034fd4b3c0b",
   "metadata": {},
   "outputs": [],
   "source": [
    "from langchain_core.output_parsers import StrOutputParser\n",
    "from langchain_core.prompts import ChatPromptTemplate\n",
    "\n",
    "system = \"\"\"Double check the user's {dialect} query for common mistakes, including:\n",
    "- Using NOT IN with NULL values\n",
    "- Using UNION when UNION ALL should have been used\n",
    "- Using BETWEEN for exclusive ranges\n",
    "- Data type mismatch in predicates\n",
    "- Properly quoting identifiers\n",
    "- Using the correct number of arguments for functions\n",
    "- Casting to the correct data type\n",
    "- Using the proper columns for joins\n",
    "\n",
    "If there are any of the above mistakes, rewrite the query. If there are no mistakes, just reproduce the original query.\n",
    "\n",
    "Output the final SQL query only.\"\"\"\n",
    "prompt = ChatPromptTemplate.from_messages(\n",
    "    [(\"system\", system), (\"human\", \"{query}\")]\n",
    ").partial(dialect=db.dialect)\n",
    "\n",
    "llm= ChatGroq(model=\"mixtral-8x7b-32768\", api_key=\"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\")\n",
    "    \n",
    "validation_chain = prompt | llm | StrOutputParser()\n",
    "\n",
    "full_chain = {\"query\": chain} | validation_chain"
   ]
  },
  {
   "cell_type": "code",
   "execution_count": null,
   "id": "5924b404-278e-481a-a016-066057c38c65",
   "metadata": {
    "scrolled": true
   },
   "outputs": [],
   "source": [
    "full_chain"
   ]
  },
  {
   "cell_type": "code",
   "execution_count": null,
   "id": "e3cdefa7-72e3-48a2-a2bb-637a837ba773",
   "metadata": {},
   "outputs": [],
   "source": [
    "query = full_chain.invoke(\n",
    "    {\n",
    "        \"question\": \"i want to know every payment detail of Customer ID 408\"\n",
    "    }\n",
    ")\n",
    "query"
   ]
  },
  {
   "cell_type": "code",
   "execution_count": null,
   "id": "08a93d90-5a74-4b97-8a28-ea3ed87d3f0a",
   "metadata": {
    "scrolled": true
   },
   "outputs": [],
   "source": [
    "db.run(query)"
   ]
  },
  {
   "cell_type": "code",
   "execution_count": null,
   "id": "e4bb28e3-903f-4266-b539-c883a936a7da",
   "metadata": {},
   "outputs": [],
   "source": [
    "system = \"\"\"You are a {dialect} expert. Given an input question, creat a syntactically correct {dialect} query to run.\n",
    "Unless the user specifies in the question a specific number of examples to obtain, query for at most {top_k} results using the LIMIT clause as per {dialect}. You can order the results to return the most informative data in the database.\n",
    "Never query for all columns from a table. You must query only the columns that are needed to answer the question. Wrap each column name in double quotes (\") to denote them as delimited identifiers.\n",
    "Pay attention to use only the column names you can see in the tables below. Be careful to not query for columns that do not exist. Also, pay attention to which column is in which table.\n",
    "Pay attention to use date('now') function to get the current date, if the question involves \"today\".\n",
    "\n",
    "Only use the following tables:\n",
    "{table_info}\n",
    "\n",
    "Write an initial draft of the query. Then double check the {dialect} query for common mistakes, including:\n",
    "- Using NOT IN with NULL values\n",
    "- Using UNION when UNION ALL should have been used\n",
    "- Using BETWEEN for exclusive ranges\n",
    "- Data type mismatch in predicates\n",
    "- Properly quoting identifiers\n",
    "- Using the correct number of arguments for functions\n",
    "- Casting to the correct data type\n",
    "- Using the proper columns for joins\n",
    "\n",
    "Use format:\n",
    "\n",
    "First draft: <<FIRST_DRAFT_QUERY>>\n",
    "Final answer: <<FINAL_ANSWER_QUERY>>\n",
    "\"\"\"\n",
    "prompt = ChatPromptTemplate.from_messages(\n",
    "    [(\"system\", system), (\"human\", \"{input}\")]\n",
    ").partial(dialect=db.dialect)\n",
    "\n",
    "\n",
    "def parse_final_answer(output: str) -> str:\n",
    "    return output.split(\"Final answer: \")[1]\n",
    "\n",
    "\n",
    "chain = create_sql_query_chain(llm, db, prompt=prompt) | parse_final_answer\n",
    "prompt.pretty_print()"
   ]
  },
  {
   "cell_type": "code",
   "execution_count": null,
   "id": "0e0f3834-42f9-487f-bb6a-6d7cf1d7f497",
   "metadata": {},
   "outputs": [],
   "source": [
    "query = chain.invoke(\n",
    "    {\n",
    "        \"question\": \"i want to know every payment detail of Customer ID 408.\"\n",
    "    }\n",
    ")\n",
    "query"
   ]
  },
  {
   "cell_type": "code",
   "execution_count": null,
   "id": "1f13d080-679c-4de6-b191-50f940f55ec0",
   "metadata": {
    "scrolled": true
   },
   "outputs": [],
   "source": [
    "db.run(query)"
   ]
  },
  {
   "cell_type": "code",
   "execution_count": null,
   "id": "b1f9f974-218a-40a3-a099-7e5a13caf5e9",
   "metadata": {},
   "outputs": [],
   "source": [
    "def sql_infer(db, chain, user_question):\n",
    "    sql_query = chain.invoke({\"question\": user_question})\n",
    "    print(sql_query)\n",
    "    result = db.run(sql_query)\n",
    "    print('Query: ',result)\n",
    "\n",
    "    answer_prompt = PromptTemplate.from_template(\n",
    "                        \"\"\" Given the following user question, corresponding SQL query, and the SQL result,\n",
    "                        generate a proper reply to give to user\n",
    "                        \n",
    "                        Question: {question}\n",
    "                        SQL Query: {query}\n",
    "                        SQL Result: {result}\n",
    "                        Answer: \"\"\"\n",
    "    )\n",
    "    llm_model = ChatGroq(model=\"mixtral-8x7b-32768\", api_key=\"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\")\n",
    "    llm= LLMChain(llm= llm_model, prompt = answer_prompt)\n",
    "    ans = llm(inputs={\"question\": user_question, \"query\": sql_query, \"result\":result})\n",
    "    return ans['text']\n",
    "    "
   ]
  },
  {
   "cell_type": "code",
   "execution_count": null,
   "id": "73fe231b-942f-43e0-a575-19e9b05ed402",
   "metadata": {},
   "outputs": [],
   "source": [
    "# Warning control\n",
    "import warnings\n",
    "warnings.filterwarnings('ignore')"
   ]
  },
  {
   "cell_type": "code",
   "execution_count": null,
   "id": "065bccba-aaf1-48d0-8afd-27ff99a111e8",
   "metadata": {
    "scrolled": true
   },
   "outputs": [],
   "source": []
  },
  {
   "cell_type": "code",
   "execution_count": null,
   "id": "cedfc53e-bebc-4fc2-8087-2effb263ccf4",
   "metadata": {},
   "outputs": [],
   "source": [
    "question=\"show me few records of 'sqlite_master'\"\n",
    "\n",
    "out= sql_infer(db, chain, question)"
   ]
  },
  {
   "cell_type": "code",
   "execution_count": null,
   "id": "9a414068-779a-465f-adce-46b877c97b78",
   "metadata": {},
   "outputs": [],
   "source": [
    "one = db.run(\"SELECT * FROM sqlite_master LIMIT 5;\")"
   ]
  },
  {
   "cell_type": "code",
   "execution_count": null,
   "id": "45ef428b-5f83-4c0c-9d5b-32d4a1033cf4",
   "metadata": {},
   "outputs": [],
   "source": [
    "print(one)"
   ]
  },
  {
   "cell_type": "code",
   "execution_count": null,
   "id": "c3968716-5547-4b63-9d8a-655ebf0c8e33",
   "metadata": {},
   "outputs": [],
   "source": [
    "import pandas as pd\n",
    "pd.DataFrame(one)"
   ]
  },
  {
   "cell_type": "code",
   "execution_count": null,
   "id": "a21a59f4-41ea-43f4-9503-0949e0b476a2",
   "metadata": {},
   "outputs": [],
   "source": [
    "print(out)"
   ]
  },
  {
   "cell_type": "code",
   "execution_count": null,
   "id": "e46fb990-8e16-418f-ba33-22d510e95fc1",
   "metadata": {},
   "outputs": [],
   "source": []
  }
 ],
 "metadata": {
  "kernelspec": {
   "display_name": "Python 3 (ipykernel)",
   "language": "python",
   "name": "python3"
  },
  "language_info": {
   "codemirror_mode": {
    "name": "ipython",
    "version": 3
   },
   "file_extension": ".py",
   "mimetype": "text/x-python",
   "name": "python",
   "nbconvert_exporter": "python",
   "pygments_lexer": "ipython3",
   "version": "3.11.7"
  }
 },
 "nbformat": 4,
 "nbformat_minor": 5
}
